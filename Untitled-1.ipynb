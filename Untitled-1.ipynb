{
 "cells": [
  {
   "cell_type": "code",
   "execution_count": 1,
   "metadata": {},
   "outputs": [
    {
     "ename": "ValueError",
     "evalue": "x must be real.",
     "output_type": "error",
     "traceback": [
      "\u001b[1;31m---------------------------------------------------------------------------\u001b[0m",
      "\u001b[1;31mValueError\u001b[0m                                Traceback (most recent call last)",
      "Cell \u001b[1;32mIn[1], line 11\u001b[0m\n\u001b[0;32m      8\u001b[0m complex_signal \u001b[38;5;241m=\u001b[39m np\u001b[38;5;241m.\u001b[39mexp(\u001b[38;5;241m1\u001b[39mj \u001b[38;5;241m*\u001b[39m phase_data)\n\u001b[0;32m     10\u001b[0m \u001b[38;5;66;03m# Apply the Hilbert transform to get the analytic signal\u001b[39;00m\n\u001b[1;32m---> 11\u001b[0m analytic_signal \u001b[38;5;241m=\u001b[39m hilbert(complex_signal)\n\u001b[0;32m     13\u001b[0m \u001b[38;5;66;03m# Calculate the magnitude of the analytic signal\u001b[39;00m\n\u001b[0;32m     14\u001b[0m magnitude \u001b[38;5;241m=\u001b[39m np\u001b[38;5;241m.\u001b[39mabs(analytic_signal)\n",
      "File \u001b[1;32mc:\\Users\\swako\\AppData\\Local\\anaconda3\\Lib\\site-packages\\scipy\\signal\\_signaltools.py:2374\u001b[0m, in \u001b[0;36mhilbert\u001b[1;34m(x, N, axis)\u001b[0m\n\u001b[0;32m   2372\u001b[0m x \u001b[38;5;241m=\u001b[39m np\u001b[38;5;241m.\u001b[39masarray(x)\n\u001b[0;32m   2373\u001b[0m \u001b[38;5;28;01mif\u001b[39;00m np\u001b[38;5;241m.\u001b[39miscomplexobj(x):\n\u001b[1;32m-> 2374\u001b[0m     \u001b[38;5;28;01mraise\u001b[39;00m \u001b[38;5;167;01mValueError\u001b[39;00m(\u001b[38;5;124m\"\u001b[39m\u001b[38;5;124mx must be real.\u001b[39m\u001b[38;5;124m\"\u001b[39m)\n\u001b[0;32m   2375\u001b[0m \u001b[38;5;28;01mif\u001b[39;00m N \u001b[38;5;129;01mis\u001b[39;00m \u001b[38;5;28;01mNone\u001b[39;00m:\n\u001b[0;32m   2376\u001b[0m     N \u001b[38;5;241m=\u001b[39m x\u001b[38;5;241m.\u001b[39mshape[axis]\n",
      "\u001b[1;31mValueError\u001b[0m: x must be real."
     ]
    }
   ],
   "source": [
    "import numpy as np\n",
    "from scipy.signal import hilbert\n",
    "\n",
    "# Example phase data (replace this with your actual phase data)\n",
    "phase_data = np.array([0, np.pi/4, np.pi/2, 3*np.pi/4, np.pi])\n",
    "\n",
    "# Create a complex signal with the phase information\n",
    "complex_signal = np.exp(1j * phase_data)\n",
    "\n",
    "# Apply the Hilbert transform to get the analytic signal\n",
    "analytic_signal = hilbert(complex_signal)\n",
    "\n",
    "# Calculate the magnitude of the analytic signal\n",
    "magnitude = np.abs(analytic_signal)\n",
    "\n",
    "print(\"Magnitude:\", magnitude)"
   ]
  }
 ],
 "metadata": {
  "kernelspec": {
   "display_name": "base",
   "language": "python",
   "name": "python3"
  },
  "language_info": {
   "codemirror_mode": {
    "name": "ipython",
    "version": 3
   },
   "file_extension": ".py",
   "mimetype": "text/x-python",
   "name": "python",
   "nbconvert_exporter": "python",
   "pygments_lexer": "ipython3",
   "version": "3.12.8"
  }
 },
 "nbformat": 4,
 "nbformat_minor": 2
}
